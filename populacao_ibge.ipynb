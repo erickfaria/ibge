{
  "nbformat": 4,
  "nbformat_minor": 0,
  "metadata": {
    "colab": {
      "provenance": [],
      "authorship_tag": "ABX9TyOWoMEFkAlUsAUzJ7m3edSc",
      "include_colab_link": true
    },
    "kernelspec": {
      "name": "python3",
      "display_name": "Python 3"
    },
    "language_info": {
      "name": "python"
    }
  },
  "cells": [
    {
      "cell_type": "markdown",
      "metadata": {
        "id": "view-in-github",
        "colab_type": "text"
      },
      "source": [
        "<a href=\"https://colab.research.google.com/github/erickfaria/ibge/blob/main/populacao_ibge.ipynb\" target=\"_parent\"><img src=\"https://colab.research.google.com/assets/colab-badge.svg\" alt=\"Open In Colab\"/></a>"
      ]
    },
    {
      "cell_type": "code",
      "source": [
        "!pip install --upgrade xlrd"
      ],
      "metadata": {
        "colab": {
          "base_uri": "https://localhost:8080/"
        },
        "id": "h-sUF3eTlTKL",
        "outputId": "ff0ff0bf-74a7-4da5-dd6d-fe60f4dbc2ab"
      },
      "execution_count": 1,
      "outputs": [
        {
          "output_type": "stream",
          "name": "stdout",
          "text": [
            "Looking in indexes: https://pypi.org/simple, https://us-python.pkg.dev/colab-wheels/public/simple/\n",
            "Requirement already satisfied: xlrd in /usr/local/lib/python3.7/dist-packages (1.1.0)\n",
            "Collecting xlrd\n",
            "  Downloading xlrd-2.0.1-py2.py3-none-any.whl (96 kB)\n",
            "\u001b[K     |████████████████████████████████| 96 kB 3.0 MB/s \n",
            "\u001b[?25hInstalling collected packages: xlrd\n",
            "  Attempting uninstall: xlrd\n",
            "    Found existing installation: xlrd 1.1.0\n",
            "    Uninstalling xlrd-1.1.0:\n",
            "      Successfully uninstalled xlrd-1.1.0\n",
            "Successfully installed xlrd-2.0.1\n"
          ]
        }
      ]
    },
    {
      "cell_type": "code",
      "execution_count": 2,
      "metadata": {
        "id": "5T5v8oqmj7L7"
      },
      "outputs": [],
      "source": [
        "import zipfile\n",
        "from ftplib import FTP\n",
        "import datetime\n",
        "from dateutil.relativedelta import relativedelta\n",
        "import tqdm\n",
        "import pandas as pd\n",
        "import numpy as np"
      ]
    },
    {
      "cell_type": "code",
      "source": [
        "year = datetime.date.today().year - 1"
      ],
      "metadata": {
        "id": "zyCyAR6_j9_C"
      },
      "execution_count": 3,
      "outputs": []
    },
    {
      "cell_type": "code",
      "source": [
        "pop = f'estimativa_dou_{year}.xls'\n",
        "\n",
        "ftp = FTP(f'ftp.ibge.gov.br')\n",
        "ftp.login()\n",
        "ftp.cwd(f'Estimativas_de_Populacao/Estimativas_{year}')"
      ],
      "metadata": {
        "colab": {
          "base_uri": "https://localhost:8080/",
          "height": 36
        },
        "id": "thQdEnq8j_wG",
        "outputId": "e1b818d3-9c4e-46b2-f681-207ffae7c7cc"
      },
      "execution_count": 4,
      "outputs": [
        {
          "output_type": "execute_result",
          "data": {
            "text/plain": [
              "'250 Directory successfully changed.'"
            ],
            "application/vnd.google.colaboratory.intrinsic+json": {
              "type": "string"
            }
          },
          "metadata": {},
          "execution_count": 4
        }
      ]
    },
    {
      "cell_type": "code",
      "source": [
        "with open(f'{pop}', 'wb') as fp:\n",
        "  ftp.retrbinary(f'RETR {pop}', fp.write)"
      ],
      "metadata": {
        "id": "yklL2HAXkBHW"
      },
      "execution_count": 5,
      "outputs": []
    },
    {
      "cell_type": "markdown",
      "source": [
        "# Limpa o Dado"
      ],
      "metadata": {
        "id": "f4tzAEfdlHll"
      }
    },
    {
      "cell_type": "code",
      "source": [
        "df = pd.read_excel('/content/estimativa_dou_2021.xls', 'Municípios', skiprows=1,\n",
        "                   nrows=5570, header=0, \n",
        "                   names=['nom_uf', 'cod_uf', 'cod_mun', 'nom_mun','pop_mun'],\n",
        "                   dtype={'UF':str,\t'cod_uf':str,\t'cod_mun':str,\n",
        "                           'nom_mun':str, 'pop_mun':str})"
      ],
      "metadata": {
        "id": "mhoGXcf1lKhZ"
      },
      "execution_count": 20,
      "outputs": []
    },
    {
      "cell_type": "code",
      "source": [
        "df['cod_mun'] = df['cod_uf'] + df['cod_mun']\n",
        "\n",
        "df['pop_mun'] = df['pop_mun'].str.replace(r\"\\(.*\\)\",\"\", regex=True)\n",
        "df['pop_mun'] = df['pop_mun'].str.replace(r\".\",\"\", regex=True)"
      ],
      "metadata": {
        "id": "WJYkNqLDl6uo"
      },
      "execution_count": 21,
      "outputs": []
    },
    {
      "cell_type": "code",
      "source": [
        "df = df.astype({'nom_uf': str,\n",
        "                'cod_uf': 'int32',\n",
        "                'cod_mun': 'int32',\n",
        "                'nom_mun': str,\n",
        "                'pop_mun': 'int32'})"
      ],
      "metadata": {
        "id": "6pxQHpFApOw_"
      },
      "execution_count": 22,
      "outputs": []
    },
    {
      "cell_type": "code",
      "source": [
        "df"
      ],
      "metadata": {
        "colab": {
          "base_uri": "https://localhost:8080/",
          "height": 424
        },
        "id": "_b3rll2w3z9j",
        "outputId": "4cbcbcb8-11d9-4309-b08b-f2f88a649234"
      },
      "execution_count": 23,
      "outputs": [
        {
          "output_type": "execute_result",
          "data": {
            "text/plain": [
              "     nom_uf  cod_uf  cod_mun                nom_mun  pop_mun\n",
              "0        RO      11  1100015  Alta Floresta D'Oeste    22516\n",
              "1        RO      11  1100023              Ariquemes   111148\n",
              "2        RO      11  1100031                 Cabixi     5067\n",
              "3        RO      11  1100049                 Cacoal    86416\n",
              "4        RO      11  1100056             Cerejeiras    16088\n",
              "...     ...     ...      ...                    ...      ...\n",
              "5565     GO      52  5222005             Vianópolis    14088\n",
              "5566     GO      52  5222054         Vicentinópolis     9002\n",
              "5567     GO      52  5222203               Vila Boa     6451\n",
              "5568     GO      52  5222302          Vila Propício     5941\n",
              "5569     DF      53  5300108               Brasília  3094325\n",
              "\n",
              "[5570 rows x 5 columns]"
            ],
            "text/html": [
              "\n",
              "  <div id=\"df-176f4707-f153-4dfd-8c4c-a0baae78b891\">\n",
              "    <div class=\"colab-df-container\">\n",
              "      <div>\n",
              "<style scoped>\n",
              "    .dataframe tbody tr th:only-of-type {\n",
              "        vertical-align: middle;\n",
              "    }\n",
              "\n",
              "    .dataframe tbody tr th {\n",
              "        vertical-align: top;\n",
              "    }\n",
              "\n",
              "    .dataframe thead th {\n",
              "        text-align: right;\n",
              "    }\n",
              "</style>\n",
              "<table border=\"1\" class=\"dataframe\">\n",
              "  <thead>\n",
              "    <tr style=\"text-align: right;\">\n",
              "      <th></th>\n",
              "      <th>nom_uf</th>\n",
              "      <th>cod_uf</th>\n",
              "      <th>cod_mun</th>\n",
              "      <th>nom_mun</th>\n",
              "      <th>pop_mun</th>\n",
              "    </tr>\n",
              "  </thead>\n",
              "  <tbody>\n",
              "    <tr>\n",
              "      <th>0</th>\n",
              "      <td>RO</td>\n",
              "      <td>11</td>\n",
              "      <td>1100015</td>\n",
              "      <td>Alta Floresta D'Oeste</td>\n",
              "      <td>22516</td>\n",
              "    </tr>\n",
              "    <tr>\n",
              "      <th>1</th>\n",
              "      <td>RO</td>\n",
              "      <td>11</td>\n",
              "      <td>1100023</td>\n",
              "      <td>Ariquemes</td>\n",
              "      <td>111148</td>\n",
              "    </tr>\n",
              "    <tr>\n",
              "      <th>2</th>\n",
              "      <td>RO</td>\n",
              "      <td>11</td>\n",
              "      <td>1100031</td>\n",
              "      <td>Cabixi</td>\n",
              "      <td>5067</td>\n",
              "    </tr>\n",
              "    <tr>\n",
              "      <th>3</th>\n",
              "      <td>RO</td>\n",
              "      <td>11</td>\n",
              "      <td>1100049</td>\n",
              "      <td>Cacoal</td>\n",
              "      <td>86416</td>\n",
              "    </tr>\n",
              "    <tr>\n",
              "      <th>4</th>\n",
              "      <td>RO</td>\n",
              "      <td>11</td>\n",
              "      <td>1100056</td>\n",
              "      <td>Cerejeiras</td>\n",
              "      <td>16088</td>\n",
              "    </tr>\n",
              "    <tr>\n",
              "      <th>...</th>\n",
              "      <td>...</td>\n",
              "      <td>...</td>\n",
              "      <td>...</td>\n",
              "      <td>...</td>\n",
              "      <td>...</td>\n",
              "    </tr>\n",
              "    <tr>\n",
              "      <th>5565</th>\n",
              "      <td>GO</td>\n",
              "      <td>52</td>\n",
              "      <td>5222005</td>\n",
              "      <td>Vianópolis</td>\n",
              "      <td>14088</td>\n",
              "    </tr>\n",
              "    <tr>\n",
              "      <th>5566</th>\n",
              "      <td>GO</td>\n",
              "      <td>52</td>\n",
              "      <td>5222054</td>\n",
              "      <td>Vicentinópolis</td>\n",
              "      <td>9002</td>\n",
              "    </tr>\n",
              "    <tr>\n",
              "      <th>5567</th>\n",
              "      <td>GO</td>\n",
              "      <td>52</td>\n",
              "      <td>5222203</td>\n",
              "      <td>Vila Boa</td>\n",
              "      <td>6451</td>\n",
              "    </tr>\n",
              "    <tr>\n",
              "      <th>5568</th>\n",
              "      <td>GO</td>\n",
              "      <td>52</td>\n",
              "      <td>5222302</td>\n",
              "      <td>Vila Propício</td>\n",
              "      <td>5941</td>\n",
              "    </tr>\n",
              "    <tr>\n",
              "      <th>5569</th>\n",
              "      <td>DF</td>\n",
              "      <td>53</td>\n",
              "      <td>5300108</td>\n",
              "      <td>Brasília</td>\n",
              "      <td>3094325</td>\n",
              "    </tr>\n",
              "  </tbody>\n",
              "</table>\n",
              "<p>5570 rows × 5 columns</p>\n",
              "</div>\n",
              "      <button class=\"colab-df-convert\" onclick=\"convertToInteractive('df-176f4707-f153-4dfd-8c4c-a0baae78b891')\"\n",
              "              title=\"Convert this dataframe to an interactive table.\"\n",
              "              style=\"display:none;\">\n",
              "        \n",
              "  <svg xmlns=\"http://www.w3.org/2000/svg\" height=\"24px\"viewBox=\"0 0 24 24\"\n",
              "       width=\"24px\">\n",
              "    <path d=\"M0 0h24v24H0V0z\" fill=\"none\"/>\n",
              "    <path d=\"M18.56 5.44l.94 2.06.94-2.06 2.06-.94-2.06-.94-.94-2.06-.94 2.06-2.06.94zm-11 1L8.5 8.5l.94-2.06 2.06-.94-2.06-.94L8.5 2.5l-.94 2.06-2.06.94zm10 10l.94 2.06.94-2.06 2.06-.94-2.06-.94-.94-2.06-.94 2.06-2.06.94z\"/><path d=\"M17.41 7.96l-1.37-1.37c-.4-.4-.92-.59-1.43-.59-.52 0-1.04.2-1.43.59L10.3 9.45l-7.72 7.72c-.78.78-.78 2.05 0 2.83L4 21.41c.39.39.9.59 1.41.59.51 0 1.02-.2 1.41-.59l7.78-7.78 2.81-2.81c.8-.78.8-2.07 0-2.86zM5.41 20L4 18.59l7.72-7.72 1.47 1.35L5.41 20z\"/>\n",
              "  </svg>\n",
              "      </button>\n",
              "      \n",
              "  <style>\n",
              "    .colab-df-container {\n",
              "      display:flex;\n",
              "      flex-wrap:wrap;\n",
              "      gap: 12px;\n",
              "    }\n",
              "\n",
              "    .colab-df-convert {\n",
              "      background-color: #E8F0FE;\n",
              "      border: none;\n",
              "      border-radius: 50%;\n",
              "      cursor: pointer;\n",
              "      display: none;\n",
              "      fill: #1967D2;\n",
              "      height: 32px;\n",
              "      padding: 0 0 0 0;\n",
              "      width: 32px;\n",
              "    }\n",
              "\n",
              "    .colab-df-convert:hover {\n",
              "      background-color: #E2EBFA;\n",
              "      box-shadow: 0px 1px 2px rgba(60, 64, 67, 0.3), 0px 1px 3px 1px rgba(60, 64, 67, 0.15);\n",
              "      fill: #174EA6;\n",
              "    }\n",
              "\n",
              "    [theme=dark] .colab-df-convert {\n",
              "      background-color: #3B4455;\n",
              "      fill: #D2E3FC;\n",
              "    }\n",
              "\n",
              "    [theme=dark] .colab-df-convert:hover {\n",
              "      background-color: #434B5C;\n",
              "      box-shadow: 0px 1px 3px 1px rgba(0, 0, 0, 0.15);\n",
              "      filter: drop-shadow(0px 1px 2px rgba(0, 0, 0, 0.3));\n",
              "      fill: #FFFFFF;\n",
              "    }\n",
              "  </style>\n",
              "\n",
              "      <script>\n",
              "        const buttonEl =\n",
              "          document.querySelector('#df-176f4707-f153-4dfd-8c4c-a0baae78b891 button.colab-df-convert');\n",
              "        buttonEl.style.display =\n",
              "          google.colab.kernel.accessAllowed ? 'block' : 'none';\n",
              "\n",
              "        async function convertToInteractive(key) {\n",
              "          const element = document.querySelector('#df-176f4707-f153-4dfd-8c4c-a0baae78b891');\n",
              "          const dataTable =\n",
              "            await google.colab.kernel.invokeFunction('convertToInteractive',\n",
              "                                                     [key], {});\n",
              "          if (!dataTable) return;\n",
              "\n",
              "          const docLinkHtml = 'Like what you see? Visit the ' +\n",
              "            '<a target=\"_blank\" href=https://colab.research.google.com/notebooks/data_table.ipynb>data table notebook</a>'\n",
              "            + ' to learn more about interactive tables.';\n",
              "          element.innerHTML = '';\n",
              "          dataTable['output_type'] = 'display_data';\n",
              "          await google.colab.output.renderOutput(dataTable, element);\n",
              "          const docLink = document.createElement('div');\n",
              "          docLink.innerHTML = docLinkHtml;\n",
              "          element.appendChild(docLink);\n",
              "        }\n",
              "      </script>\n",
              "    </div>\n",
              "  </div>\n",
              "  "
            ]
          },
          "metadata": {},
          "execution_count": 23
        }
      ]
    },
    {
      "cell_type": "markdown",
      "source": [
        "# Salva os Dados"
      ],
      "metadata": {
        "id": "VnqhsEydrUKO"
      }
    },
    {
      "cell_type": "code",
      "source": [
        "df.to_parquet(f'/content/pop_ibge_{year}.parquet.gzip',\n",
        "              compression='gzip', index=False)"
      ],
      "metadata": {
        "id": "BZ0S22pEqR99"
      },
      "execution_count": 24,
      "outputs": []
    }
  ]
}