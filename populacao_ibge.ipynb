{
  "nbformat": 4,
  "nbformat_minor": 0,
  "metadata": {
    "colab": {
      "provenance": [],
      "authorship_tag": "ABX9TyP2YwGB/UDsyYPtUBVqGLyT",
      "include_colab_link": true
    },
    "kernelspec": {
      "name": "python3",
      "display_name": "Python 3"
    },
    "language_info": {
      "name": "python"
    }
  },
  "cells": [
    {
      "cell_type": "markdown",
      "metadata": {
        "id": "view-in-github",
        "colab_type": "text"
      },
      "source": [
        "<a href=\"https://colab.research.google.com/github/erickfaria/ibge/blob/main/populacao_ibge.ipynb\" target=\"_parent\"><img src=\"https://colab.research.google.com/assets/colab-badge.svg\" alt=\"Open In Colab\"/></a>"
      ]
    },
    {
      "cell_type": "code",
      "source": [
        "!pip install --upgrade xlrd"
      ],
      "metadata": {
        "colab": {
          "base_uri": "https://localhost:8080/"
        },
        "id": "h-sUF3eTlTKL",
        "outputId": "ff0ff0bf-74a7-4da5-dd6d-fe60f4dbc2ab"
      },
      "execution_count": 1,
      "outputs": [
        {
          "output_type": "stream",
          "name": "stdout",
          "text": [
            "Looking in indexes: https://pypi.org/simple, https://us-python.pkg.dev/colab-wheels/public/simple/\n",
            "Requirement already satisfied: xlrd in /usr/local/lib/python3.7/dist-packages (1.1.0)\n",
            "Collecting xlrd\n",
            "  Downloading xlrd-2.0.1-py2.py3-none-any.whl (96 kB)\n",
            "\u001b[K     |████████████████████████████████| 96 kB 3.0 MB/s \n",
            "\u001b[?25hInstalling collected packages: xlrd\n",
            "  Attempting uninstall: xlrd\n",
            "    Found existing installation: xlrd 1.1.0\n",
            "    Uninstalling xlrd-1.1.0:\n",
            "      Successfully uninstalled xlrd-1.1.0\n",
            "Successfully installed xlrd-2.0.1\n"
          ]
        }
      ]
    },
    {
      "cell_type": "code",
      "execution_count": null,
      "metadata": {
        "id": "5T5v8oqmj7L7"
      },
      "outputs": [],
      "source": [
        "import zipfile\n",
        "from ftplib import FTP\n",
        "import datetime\n",
        "from dateutil.relativedelta import relativedelta\n",
        "import tqdm\n",
        "import pandas as pd\n",
        "import numpy as np"
      ]
    },
    {
      "cell_type": "code",
      "source": [
        "year = datetime.date.today().year - 1\n",
        "last_month = datetime.date.today().month - 1\n",
        "month = '{:02d}'.format(last_month)"
      ],
      "metadata": {
        "id": "zyCyAR6_j9_C"
      },
      "execution_count": null,
      "outputs": []
    },
    {
      "cell_type": "code",
      "source": [
        "pop = f'estimativa_dou_{year}.xls'\n",
        "\n",
        "ftp = FTP(f'ftp.ibge.gov.br')\n",
        "ftp.login()\n",
        "ftp.cwd(f'Estimativas_de_Populacao/Estimativas_{year}')"
      ],
      "metadata": {
        "colab": {
          "base_uri": "https://localhost:8080/",
          "height": 36
        },
        "id": "thQdEnq8j_wG",
        "outputId": "872e0e08-bd2c-47f0-82df-299c9e85c918"
      },
      "execution_count": null,
      "outputs": [
        {
          "output_type": "execute_result",
          "data": {
            "text/plain": [
              "'250 Directory successfully changed.'"
            ],
            "application/vnd.google.colaboratory.intrinsic+json": {
              "type": "string"
            }
          },
          "metadata": {},
          "execution_count": 4
        }
      ]
    },
    {
      "cell_type": "code",
      "source": [
        "with open(f'{pop}', 'wb') as fp:\n",
        "  ftp.retrbinary(f'RETR {pop}', fp.write)"
      ],
      "metadata": {
        "id": "yklL2HAXkBHW"
      },
      "execution_count": null,
      "outputs": []
    },
    {
      "cell_type": "markdown",
      "source": [
        "# Limpa o Dado"
      ],
      "metadata": {
        "id": "f4tzAEfdlHll"
      }
    },
    {
      "cell_type": "code",
      "source": [
        "df = pd.read_excel('/content/estimativa_dou_2021.xls', 'Municípios', skiprows=1,\n",
        "                   nrows=5570, header=0, \n",
        "                   names=['nom_uf', 'cod_uf', 'cod_mun', 'nom_mun','pop_mun'],\n",
        "                   dtype={'UF':str,\t'cod_uf':str,\t'cod_mun':str,\n",
        "                           'nom_mun':str, 'pop_mun':str})"
      ],
      "metadata": {
        "id": "mhoGXcf1lKhZ"
      },
      "execution_count": null,
      "outputs": []
    },
    {
      "cell_type": "code",
      "source": [
        "df['cod_mun'] = df['cod_uf'] + df['cod_mun']"
      ],
      "metadata": {
        "id": "WJYkNqLDl6uo"
      },
      "execution_count": null,
      "outputs": []
    },
    {
      "cell_type": "code",
      "source": [
        "df['pop_mun'] = df['pop_mun'].str.replace(r\"\\(.*\\)\",\"\")\n",
        "df['pop_mun'] = df['pop_mun'].str.replace(r\".\",\"\")"
      ],
      "metadata": {
        "colab": {
          "base_uri": "https://localhost:8080/"
        },
        "id": "upDdptmoovX1",
        "outputId": "0b42e868-c650-4af2-cb0c-fe93e2c5f851"
      },
      "execution_count": null,
      "outputs": [
        {
          "output_type": "stream",
          "name": "stderr",
          "text": [
            "/usr/local/lib/python3.7/dist-packages/ipykernel_launcher.py:1: FutureWarning: The default value of regex will change from True to False in a future version.\n",
            "  \"\"\"Entry point for launching an IPython kernel.\n",
            "/usr/local/lib/python3.7/dist-packages/ipykernel_launcher.py:2: FutureWarning: The default value of regex will change from True to False in a future version. In addition, single character regular expressions will *not* be treated as literal strings when regex=True.\n",
            "  \n"
          ]
        }
      ]
    },
    {
      "cell_type": "code",
      "source": [
        "df = df.astype({'nom_uf': str,\n",
        "                'cod_uf': 'int32',\n",
        "                'cod_mun': 'int32',\n",
        "                'nom_mun': str,\n",
        "                'pop_mun': 'int32'})"
      ],
      "metadata": {
        "id": "6pxQHpFApOw_"
      },
      "execution_count": null,
      "outputs": []
    },
    {
      "cell_type": "markdown",
      "source": [
        "# Salva os Dados"
      ],
      "metadata": {
        "id": "VnqhsEydrUKO"
      }
    },
    {
      "cell_type": "code",
      "source": [
        "df.to_parquet(f'/content/pop_ibge_{year}.parquet.gzip',\n",
        "              compression='gzip', index=False)"
      ],
      "metadata": {
        "id": "BZ0S22pEqR99"
      },
      "execution_count": null,
      "outputs": []
    }
  ]
}